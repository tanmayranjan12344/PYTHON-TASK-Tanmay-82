{
 "cells": [
  {
   "cell_type": "code",
   "execution_count": 1,
   "id": "ff068f06-5db1-4d32-b19b-4a769319b1b8",
   "metadata": {},
   "outputs": [
    {
     "name": "stdout",
     "output_type": "stream",
     "text": [
      "a\n"
     ]
    }
   ],
   "source": [
    "a=10 \n",
    "print(\"a\")\n"
   ]
  },
  {
   "cell_type": "code",
   "execution_count": 2,
   "id": "8b6ff675-0eee-43f2-b911-317ed167523e",
   "metadata": {},
   "outputs": [
    {
     "name": "stdout",
     "output_type": "stream",
     "text": [
      "10\n"
     ]
    }
   ],
   "source": [
    "a=10\n",
    "print(a)\n"
   ]
  },
  {
   "cell_type": "code",
   "execution_count": 4,
   "id": "4475268c-b34b-4c58-ac34-d41a36c06581",
   "metadata": {},
   "outputs": [
    {
     "name": "stdout",
     "output_type": "stream",
     "text": [
      "100\n"
     ]
    }
   ],
   "source": [
    "\"\"\"variables\n",
    "IDE\n",
    "variales rules and regualtion\n",
    "\"\"\"\n",
    "x_y=100\n",
    "print(x_y)\n",
    "#To know the address we use the\n",
    "print(id(a))\n",
    " print (type(a))# it is used to  find the \n"
   ]
  },
  {
   "cell_type": "code",
   "execution_count": 2,
   "id": "f1d58970-4783-4bb0-a1d9-5298070c0975",
   "metadata": {},
   "outputs": [
    {
     "name": "stdout",
     "output_type": "stream",
     "text": [
      " A story is a narrative that recounts a sequence of events, either real or imagined, often for the purpose of entertainment, education, or cultural transmission. Stories can be shared through various media like spoken word, writing, film, or theater. They can be simple anecdotes or complex narratives with intricate plots.\n"
     ]
    }
   ],
   "source": [
    "#data  types\n",
    "#integ\n",
    "text =\"\"\" A story is a narrative that recounts a sequence of events, either real or imagined, often for the purpose of entertainment, education, or cultural transmission. Stories can be shared through various media like spoken word, writing, film, or theater. They can be simple anecdotes or complex narratives with intricate plots.\"\"\" \n",
    "print(text)"
   ]
  },
  {
   "cell_type": "code",
   "execution_count": 6,
   "id": "88235ab3-bc1d-4fc8-96fc-be630feb9623",
   "metadata": {},
   "outputs": [
    {
     "name": "stdout",
     "output_type": "stream",
     "text": [
      "True\n",
      "<class 'bool'>\n"
     ]
    }
   ],
   "source": [
    "#types of data types\n",
    "#boolean\n",
    "a=True\n",
    "b=False\n",
    "print(a)\n",
    "print(type(b))\n",
    "\n"
   ]
  },
  {
   "cell_type": "code",
   "execution_count": null,
   "id": "e33f1412-73f6-43f6-9cb1-26d017b1da06",
   "metadata": {},
   "outputs": [],
   "source": []
  },
  {
   "cell_type": "code",
   "execution_count": 12,
   "id": "f05d6c89-a531-44a3-b0d8-2f3eb6f46245",
   "metadata": {},
   "outputs": [
    {
     "name": "stdin",
     "output_type": "stream",
     "text": [
      " enter the output of 1: Tanmay \n",
      "enter the output of 2: Ranjan\n"
     ]
    },
    {
     "name": "stdout",
     "output_type": "stream",
     "text": [
      "Tanmay Ranjan\n"
     ]
    }
   ],
   "source": [
    "##I/0 = INPUT/ OUTPUT  OPERATION \n",
    "num1 = input(\" enter the output of 1:\")\n",
    "num2 = input(\"enter the output of 2:\")\n",
    "req=num1+num2\n",
    "print (req)\n"
   ]
  },
  {
   "cell_type": "code",
   "execution_count": 4,
   "id": "ff5ccda3-37d3-49a2-b6fe-43a61e70af25",
   "metadata": {},
   "outputs": [
    {
     "name": "stdin",
     "output_type": "stream",
     "text": [
      "enter the number   20\n"
     ]
    },
    {
     "name": "stdout",
     "output_type": "stream",
     "text": [
      "the last digit of the20is:,0\n"
     ]
    },
    {
     "name": "stdin",
     "output_type": "stream",
     "text": [
      "enter the number   20\n"
     ]
    },
    {
     "name": "stdout",
     "output_type": "stream",
     "text": [
      " the last digit of the  20  is : 0\n"
     ]
    }
   ],
   "source": [
    "#write  the program to print the last  digit of a no. given by the user\n",
    "a=(int(input(\"enter the number  \")))\n",
    "res=a%10\n",
    "print(f\"the last digit of the{a}is:,{res}\")\n",
    "\n",
    "\n",
    "a=(int(input(\"enter the number  \")))\n",
    "res=a%10\n",
    "print(\" the last digit of the \",a,\" is :\",res)"
   ]
  },
  {
   "cell_type": "code",
   "execution_count": 5,
   "id": "400075ed-8c1d-42a4-9b36-111cc60d60ed",
   "metadata": {},
   "outputs": [
    {
     "name": "stdout",
     "output_type": "stream",
     "text": [
      "10240000000000\n"
     ]
    }
   ],
   "source": [
    "#Operators in python \n",
    "#Arthimatic operators\n",
    "n1=20\n",
    "n2= 10\n",
    "# res=n1+n2\n",
    "# res= n1-n2\n",
    "res= n1*n2\n",
    "res=n1**n2\n",
    "res=n1%2\n",
    "res=n1/n2\n",
    " res=n1//n2\n",
    "print(res)\n",
    "\n",
    "# comaprison operator / relation operator\n",
    "user1_age=50\n",
    "user2_age=40\n",
    "res=user1_age>user2_age\n",
    "res= user1_age>=user2_age\n",
    "res=user1_age==user2_age\n",
    "res=user1_age<=user2_age\n",
    "res=user1_age!=user2_age\n",
    "print res\n",
    "\n",
    "\n",
    "\n",
    "\n",
    "\n"
   ]
  },
  {
   "cell_type": "code",
   "execution_count": null,
   "id": "549a94b0-825a-40dd-9198-1d6e857364d8",
   "metadata": {},
   "outputs": [],
   "source": [
    "#assignment operator (+=,-=,/= )\n",
    " a= 30 \n",
    " # a=a+4"
   ]
  },
  {
   "cell_type": "code",
   "execution_count": 12,
   "id": "e5987190-593c-41d8-8f6b-e30e6272725e",
   "metadata": {},
   "outputs": [
    {
     "name": "stdout",
     "output_type": "stream",
     "text": [
      "False\n",
      "True\n"
     ]
    }
   ],
   "source": [
    "\n",
    "day3 \n",
    "#4 membership operator \n",
    "# note: does not work on  the values\n",
    "# is works in the sequnce and the existing\n",
    "num ='898967'\n",
    "res='76' in num\n",
    "print (res)\n",
    "\n",
    "num ='python'\n",
    "res='py' in num\n",
    "print(res)\n",
    "\n"
   ]
  },
  {
   "cell_type": "code",
   "execution_count": 15,
   "id": "d02f1ccc-fcc8-478b-baa9-bc614fb67031",
   "metadata": {},
   "outputs": [
    {
     "name": "stdout",
     "output_type": "stream",
     "text": [
      "True\n",
      "False\n"
     ]
    }
   ],
   "source": [
    "#5 identitiy operator \n",
    "#(is ,is not)\n",
    "a=10\n",
    "b=10\n",
    "res=a is b\n",
    "print (res)\n",
    "\n",
    "a=10\n",
    "b=100 \n",
    "res=a is b\n",
    "print (res)\n",
    "\n",
    "#identity operator works on the address of memory and not in the  variable value\n",
    "\n",
    "\n",
    "\n"
   ]
  },
  {
   "cell_type": "code",
   "execution_count": 23,
   "id": "958b3851-5322-491a-a461-9278fc5d77db",
   "metadata": {},
   "outputs": [
    {
     "name": "stdout",
     "output_type": "stream",
     "text": [
      "0b10\n",
      "0x2\n",
      "0x304f\n"
     ]
    }
   ],
   "source": [
    "# 7 bitwise opertor (&,/,^,<<,>>)\n",
    " #it chnage the number into binary  then it  perfrom the opertaion\n",
    "a=7\n",
    "b=2\n",
    "res= a&b\n",
    "print ( bin(res)) #output 0b10 means base 10 \n",
    "\n",
    "a=7\n",
    "b=2\n",
    "res= a&b\n",
    "print (hex(res)) # output 0x2\n",
    "\n",
    "pin =12367\n",
    "print (hex(pin)) #  masking  , in this  system generate the unique id  and it will  perfrom the operation\n",
    " \n"
   ]
  },
  {
   "cell_type": "code",
   "execution_count": 36,
   "id": "bab6cd19-8441-4b62-a17a-14eb1ab492ad",
   "metadata": {},
   "outputs": [],
   "source": [
    " #day4.#conditional statements\n",
    "#1 if elase \n",
    "#2. multiple if \n",
    "#3.if elif else\n",
    "#4.multiple if elif else\n",
    "#5.chaining of idf else(nesting,ladder)\n",
    "a=40\n",
    "b=35\n",
    "res=a<b\n",
    "if(res==True): #if (condition)\n",
    "   print(\"ha hai\")\n",
    "    \n",
    "    "
   ]
  },
  {
   "cell_type": "code",
   "execution_count": 39,
   "id": "9a2b9220-2595-423e-9dd9-08bc57523bb2",
   "metadata": {},
   "outputs": [],
   "source": [
    "a=40\n",
    "b=35\n",
    "res=a<b\n",
    "if(res==True): #if (condition)\n",
    "   print(\"ha hai\")"
   ]
  },
  {
   "cell_type": "code",
   "execution_count": null,
   "id": "5e05a538-ba71-4e1e-b0d8-be09456209e2",
   "metadata": {},
   "outputs": [],
   "source": [
    "a=40\n",
    "b=65\n",
    "if(a<b and a<b);\n",
    "   print(\"yess\")\n",
    "else\n",
    "print (\"no\")\n"
   ]
  },
  {
   "cell_type": "code",
   "execution_count": 4,
   "id": "5117a11a-1e34-491a-af80-0cd01321cad8",
   "metadata": {},
   "outputs": [
    {
     "name": "stdin",
     "output_type": "stream",
     "text": [
      "enter the number 30\n"
     ]
    },
    {
     "name": "stdout",
     "output_type": "stream",
     "text": [
      "number is  odd\n"
     ]
    }
   ],
   "source": [
    "#write the program check the number is odd or even and take the number by the user \n",
    "a = int(input(\"enter the number\"))\n",
    "if(a%2==0):\n",
    "   print(\"number is even\")\n",
    "else: \n",
    "   print(\"number is  odd\")\n",
    "\n",
    "          "
   ]
  },
  {
   "cell_type": "code",
   "execution_count": null,
   "id": "c2ee6a91-b864-4595-a791-1bf95dd4dd62",
   "metadata": {},
   "outputs": [],
   "source": [
    "#25.Calculate surface area of a cuboid\n",
    "#Input: l = 4, b = 3, h = 2\n",
    "#Output: Surface Area = ?\n"
   ]
  }
 ],
 "metadata": {
  "kernelspec": {
   "display_name": "Python 3 (ipykernel)",
   "language": "python",
   "name": "python3"
  },
  "language_info": {
   "codemirror_mode": {
    "name": "ipython",
    "version": 3
   },
   "file_extension": ".py",
   "mimetype": "text/x-python",
   "name": "python",
   "nbconvert_exporter": "python",
   "pygments_lexer": "ipython3",
   "version": "3.13.5"
  }
 },
 "nbformat": 4,
 "nbformat_minor": 5
}
