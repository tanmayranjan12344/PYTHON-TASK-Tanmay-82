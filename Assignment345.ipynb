{
 "cells": [
  {
   "cell_type": "code",
   "execution_count": 16,
   "id": "5f26071e-85f3-4fce-ae9e-964733c971d5",
   "metadata": {},
   "outputs": [
    {
     "name": "stdin",
     "output_type": "stream",
     "text": [
      "enter the cost price 200\n",
      "enter the sellling price 100\n"
     ]
    },
    {
     "name": "stdout",
     "output_type": "stream",
     "text": [
      "loss\n",
      "-50.0\n"
     ]
    }
   ],
   "source": [
    "#  1. Task: Calculate Profit Percentage\n",
    "# ● Write a python program that takes input for the cost price and selling price of\n",
    "# an item.\n",
    "# ● Hints\n",
    "# ○ Prompt the user to input the cost price and selling price.\n",
    "# ○ Determine whether the transaction resulted in a profit or loss.\n",
    "# ○ If there is a profit calculate the profit percentage; if there is a loss\n",
    "# calculate the loss percentage.\n",
    "# ○ Display the profit or loss and the respective percentage.\n",
    "cp=int(input(\"enter the cost price\"))\n",
    "sp=int(input(\"enter the sellling price\"))\n",
    "a=sp-cp\n",
    "if(sp>cp):\n",
    " print(\"profit\")\n",
    " b=a/cp*100\n",
    " print(b)\n",
    "    \n",
    "elif sp<cp:\n",
    " print (\"loss\")\n",
    " c=a/cp*100\n",
    " print(c)\n",
    "else:\n",
    "    print(\" no loss, no profit\")\n",
    "    \n",
    "    \n",
    "\n",
    "\n",
    "\n",
    "\n",
    "    \n"
   ]
  },
  {
   "cell_type": "code",
   "execution_count": 1,
   "id": "0e9962b6-fff6-40e5-84a5-61a240f20734",
   "metadata": {},
   "outputs": [
    {
     "name": "stdin",
     "output_type": "stream",
     "text": [
      "enter the run 10\n",
      "enter the run 20\n",
      "enter the run 30\n",
      "enter the run 90\n",
      "enter the run 100\n"
     ]
    },
    {
     "name": "stdout",
     "output_type": "stream",
     "text": [
      "50.0\n",
      "250\n"
     ]
    }
   ],
   "source": [
    "# 2. Task: Cricket Stats Analyzer\n",
    "# ● Objective: Write a script to analyze cricket stats for a team.\n",
    "# ● Hints:\n",
    "# ○ Prompt the user to input the runs scored by each of the five players in a\n",
    "# cricket match.\n",
    "# ○ For each player (Player 1 to Player 5) ask the user to input the runs they\n",
    "# scored.\n",
    "# ○ Calculate the total runs scored by all players and the average runs.\n",
    "# ○ Display the total runs and average runs to the user.\n",
    "a1=int(input(\"enter the run\"))\n",
    "a2=int(input(\"enter the run\"))\n",
    "a3=int(input(\"enter the run\"))\n",
    "a4=int(input(\"enter the run\"))\n",
    "a5=int(input(\"enter the run\"))\n",
    "avg= (a1+a2+a3+a4+a5)/5\n",
    "b=a1+a2+a3+a4+a5\n",
    "print(avg)\n",
    "print(b)\n",
    "\n",
    "    \n",
    "\n"
   ]
  },
  {
   "cell_type": "code",
   "execution_count": 16,
   "id": "47c93322-44ac-438d-886c-45f7b13b337a",
   "metadata": {},
   "outputs": [
    {
     "name": "stdin",
     "output_type": "stream",
     "text": [
      "enter the age  10\n"
     ]
    },
    {
     "name": "stdout",
     "output_type": "stream",
     "text": [
      " 55 years left for the retirement \n"
     ]
    }
   ],
   "source": [
    "# 3. Task: Retirement Age Calculator\n",
    "# ● Objective: Write a program that prompts the user for their age and tells them how\n",
    "# many years until they reach retirement age (65).\n",
    "# ● Hints:\n",
    "# ○ Ask the user to input their age.\n",
    "# ○ Calculate how many more years they have until they reach 65 years of\n",
    "# age.\n",
    "# ○ Display the number of years left until retirement or a message if the user\n",
    "# has already reached retirement age.\n",
    "u=int(input(\"enter the age \"))\n",
    "l=65-u\n",
    "if(u>65 or u==65):\n",
    "   print(\"u are retired\")\n",
    "else :\n",
    "    print(f\" {l} years left for the retirement \")\n",
    "\n",
    "\n",
    "\n",
    "   \n",
    " \n",
    "\n",
    " \n",
    "\n"
   ]
  },
  {
   "cell_type": "code",
   "execution_count": 28,
   "id": "23071170-2721-4f5c-a07e-822ba10f00bc",
   "metadata": {},
   "outputs": [
    {
     "name": "stdin",
     "output_type": "stream",
     "text": [
      "enter the radius  2.2\n"
     ]
    },
    {
     "name": "stdout",
     "output_type": "stream",
     "text": [
      "15.197600000000003\n"
     ]
    }
   ],
   "source": [
    "#  Task: Calculate the Area of a Circle\n",
    "# ● Objective: Write a program to calculate the area of a circle.\n",
    "# ● Hints:\n",
    "# ○ Ask the user to input the radius of the circle.\n",
    "# ○ Calculate the area of the circle using the formula: Area = π *\n",
    "# radius^2.\n",
    "# ○ Display the calculated area.\n",
    "r=float(input(\"enter the radius \"))\n",
    "a=3.14*r**2\n",
    "print(a)\n"
   ]
  },
  {
   "cell_type": "code",
   "execution_count": 31,
   "id": "634fccec-4df9-44de-af11-9931abb98908",
   "metadata": {},
   "outputs": [
    {
     "name": "stdout",
     "output_type": "stream",
     "text": [
      "55000\n",
      "47500.0\n",
      "7500.0\n",
      "5500.0\n"
     ]
    }
   ],
   "source": [
    "# 5. Task: Salary Calculation\n",
    "# ● Objective: You have to calculate an employee's salary by computing the gross\n",
    "# salary tax and net salary based on the given parameters.\n",
    "# ● Hints:\n",
    "# ○ Base Salary = ₹50000\n",
    "# ○ Bonus = ₹5000\n",
    "# ○ Tax Rate = 10%\n",
    "# ○ Other Charges = ₹2000\n",
    "# Display the Gross Salary Tax and Net Salary.\n",
    "base=50000\n",
    "b2=5000\n",
    "o=2000\n",
    "gross= base+b2\n",
    "print(gross)\n",
    "tax= gross*0.10\n",
    "d=tax+o\n",
    "net= gross-d\n",
    "print(net)\n",
    "print(d)\n",
    "print(tax)\n"
   ]
  },
  {
   "cell_type": "code",
   "execution_count": 3,
   "id": "f5cfaf34-2054-4267-9ccd-10a4280e6e02",
   "metadata": {},
   "outputs": [
    {
     "name": "stdin",
     "output_type": "stream",
     "text": [
      "enter the age of the user 10\n",
      "enter the income of the user 2000\n",
      "enter the credit score of the person 800\n",
      "enter the amount of debts user had 100\n"
     ]
    },
    {
     "name": "stdout",
     "output_type": "stream",
     "text": [
      "loan rejected\n"
     ]
    }
   ],
   "source": [
    "# 6. Task: Bank Loan Approval System\n",
    "# ● Objective: You have to create a python script that checks whether an user is\n",
    "# eligible for a bank loan based on various criteria.\n",
    "# ● Hints:\n",
    "# ○ The applicant's age must be between 18 and 60 years.\n",
    "# ○ The applicant's monthly income must be greater than or equal to ₹25000.\n",
    "# ○ The applicant's credit score must be greater than or equal to 700.\n",
    "# ○ The applicant must not have any outstanding debts greater than ₹10000\n",
    "# 1. Output:\n",
    "# ○ Display \"Loan Approved\" if the applicant meets all the conditions.\n",
    "# ○ Otherwise display \"Loan Rejected\".\n",
    "a=int(input(\"enter the age of the user\"))\n",
    "i=int(input(\"enter the income of the user\"))\n",
    "cs=int(input(\"enter the credit score of the person\"))\n",
    "de=int(input(\"enter the amount of debts user had\"))\n",
    "if a>=18 and a<=60 and  (i>=25000) and (cs>=700) and (de<=10000):\n",
    "    print(\"loan approved\")\n",
    "else:\n",
    "    print(\"loan rejected\")\n",
    "\n",
    "   \n",
    "\n",
    "            \n",
    "                \n",
    "            \n",
    "         \n",
    "    "
   ]
  },
  {
   "cell_type": "code",
   "execution_count": 7,
   "id": "83d54d88-da0d-457b-974b-2e44f6f40204",
   "metadata": {},
   "outputs": [
    {
     "name": "stdin",
     "output_type": "stream",
     "text": [
      "enter the Academic score of the student 40\n",
      "enter the Attendance percentage of the student 40\n",
      "enter name of activities which is included as extracurricular activities YES\n"
     ]
    },
    {
     "name": "stdout",
     "output_type": "stream",
     "text": [
      "you are disqulified\n"
     ]
    }
   ],
   "source": [
    "# 7. Task: Students Interview Eligibility Checker\n",
    "# ● Objective:you have to design a javascript script that checks whether a student is\n",
    "# eligible for an interview based on their academic score attendance percentage\n",
    "# and extracurricular participation.\n",
    "# ● Input:\n",
    "# ○ Academic Score (percentage): A floating-point number representing the\n",
    "# student's academic score. Ex .78.88\n",
    "# ○ Attendance Percentage: A floating-point number representing the\n",
    "# student's attendance percentage. Ex.85.88\n",
    "# ○ Extracurricular Participation: This indicates whether the student has\n",
    "# participated in any extracurricular activities. Ex.Yes/no\n",
    "AS=float(input(\"enter the Academic score of the student\"))\n",
    "Ap=float(input(\"enter the Attendance percentage of the student\"))\n",
    "E=input(\"enter name of activities which is included as extracurricular activities\")\n",
    "if(80<=AS) and (75<=Ap)and (E==\"YES\"):\n",
    "    print(\"student is eligible for interview \")\n",
    "else:\n",
    "    print(\"you are disqulified\")\n",
    "\n",
    "\n",
    "\n",
    "# AS = float(input(\"Enter the Academic score of the student (e.g., 78.88): \"))\n",
    "# Ap = float(input(\"Enter the Attendance percentage of the student (e.g., 85.88): \"))\n",
    "# E = input(\"Has the student participated in extracurricular activities? (Yes/No): \")\n",
    "\n",
    "# # Make the extracurricular input uniform for comparison\n",
    "# E = E.strip().lower()\n",
    "\n",
    "# if AS >= 80 and Ap >= 75 and E == \"yes\":\n",
    "#     print(\"Student is eligible for interview\")\n",
    "# else:\n",
    "#     print(\"You are disqualified\")\n",
    "\n",
    "   \n",
    " # E = E.strip().lower()  #strip() removes the whitespace from the starting or begning  and end of the  string\n",
    "\n",
    "\n",
    "    \n",
    "             \n",
    "        \n",
    "    \n",
    "  \n"
   ]
  },
  {
   "cell_type": "code",
   "execution_count": 4,
   "id": "7ca9fd1a-6c56-4c72-8e86-812b45513522",
   "metadata": {},
   "outputs": [
    {
     "name": "stdin",
     "output_type": "stream",
     "text": [
      "enter the email address of the user  tanmayranjan@yahoo.com\n"
     ]
    },
    {
     "name": "stdout",
     "output_type": "stream",
     "text": [
      "email is not allowed\n"
     ]
    }
   ],
   "source": [
    "# 8. Task: Validating Email Domain\n",
    "# ● Objective: You will implement a Python  program to validate the domain of a\n",
    "# user's email address. The program will check if the email contains a specific\n",
    "# domain (e.g. \"gmail.com\").\n",
    "# Problem Statement:\n",
    "# You are building a registration system that only accepts email addresses from a certain\n",
    "# domain (e.g. \"gmail.com\"). Your task is to:\n",
    "# 1. Prompt the user to enter their email address.\n",
    "# 2. Check if the entered email address contains the domain \"gmail.com\".\n",
    "# 3. Display whether the email is eligible for registration based on the domain\n",
    "# check.\n",
    "g=input(\"enter the email address of the user \")\n",
    "g=g.strip().lower()#strip() removes the whitespace from the starting or begning  and end of the  string\n",
    "ae=\"gmail.com\"\n",
    "if g.endswith(\"@\"+ ae): #endswith is  used to check end with given string or not\n",
    " print(\"email is verfied\")\n",
    "else:\n",
    "  print(\"email is not allowed\")\n"
   ]
  },
  {
   "cell_type": "code",
   "execution_count": 6,
   "id": "deea3d29-02aa-4a54-a968-6fdfaa6157a5",
   "metadata": {},
   "outputs": [
    {
     "name": "stdout",
     "output_type": "stream",
     "text": [
      "  both employe have accesss the same \n"
     ]
    }
   ],
   "source": [
    "# Task 9: Employee Access Level System\n",
    "# Objective:\n",
    "# You are building a security system for a corporate office where employees are assigned\n",
    "# different access levels:\n",
    "# ● Admin Access\n",
    "# ● Staff Access\n",
    "# ● Visitor Access\n",
    "# Scenario:\n",
    "# The system must check whether two employees have been assigned exactly the same\n",
    "# access level object in the system. This is important to avoid mistakenly duplicating\n",
    "# access levels in memory or logic.\n",
    "# Instructions:\n",
    "# 1. ADMIN = \"admin\"\n",
    "# 2. STAFF = \"staff\"\n",
    "# 3. VISITOR = \"visitor\"\n",
    "# ● Assign access levels to two employees using these predefined constants.\n",
    "# ● Display:\n",
    "# ○ \"Both employees have the same access level object.\" if\n",
    "# they point to the same object.\n",
    "# ○ \"Employees have different access level objects.\"\n",
    "# otherwise.\n",
    "\n",
    "ADMIN = \"admin\"\n",
    "STAFF = \"staff\"\n",
    "VISITOR = \"visitor\"\n",
    "e1= \"admin\"\n",
    "e2= \"admin\"\n",
    "\n",
    "if e1 is e2:\n",
    "    print(\"  both employe have accesss the same \")\n",
    "else:\n",
    "    print(\"  both the  employee are not same\")\n",
    "\n",
    "\n",
    "\n",
    "\n",
    "\n",
    "\n"
   ]
  },
  {
   "cell_type": "code",
   "execution_count": 12,
   "id": "60faac4b-133f-4917-98e9-292bbf2a7997",
   "metadata": {},
   "outputs": [
    {
     "name": "stdin",
     "output_type": "stream",
     "text": [
      "enter the marks of the student 99\n"
     ]
    },
    {
     "name": "stdout",
     "output_type": "stream",
     "text": [
      "A\n"
     ]
    }
   ],
   "source": [
    "# 10.Task : Student Grading System\n",
    "# Create a javascript program to calculate a student's grade based on their marks.\n",
    "# Task:\n",
    "# 1. Input: Prompt the user to enter their marks.\n",
    "# 2. Criteria:\n",
    "# ○ Grade A: 90–100\n",
    "# ○ Grade B: 80–89\n",
    "# ○ Grade C: 70–79\n",
    "# ○ Grade D: 60–69\n",
    "# ○ Grade E: 50–59\n",
    "# ○ Grade F: 0–49\n",
    "# ○ Invalid marks: Outside the range 0–100.\n",
    "# 3. Output: Display the grade or an error message for invalid marks.\n",
    "# Example Outputs:\n",
    "# ● Marks: 85 → Grade: B\n",
    "# ● Marks: 45 → Grade: F\n",
    "# # ● Marks: 105 → Invalid marks.\n",
    "s1=int(input(\"enter the marks of the student\"))\n",
    "if (90 <= s1 <=100):\n",
    "  print(\"A\")\n",
    "elif (80 <= s1 <=89):\n",
    "    print(\"B\")\n",
    "elif (70 <= s1 <=79):\n",
    "    print(\" c\")\n",
    "elif (60 <= s1 <=69):\n",
    "    print (\"d\")\n",
    "elif (50 <= s1 <=59):\n",
    "    print (\"E\")\n",
    "elif (0 <= s1 <=49):\n",
    "     print(\"f\")\n",
    "\n",
    "else:\n",
    "    print(\"invalid marks\")\n",
    "    \n",
    "\n",
    "\n",
    "\n",
    "    \n",
    "  "
   ]
  },
  {
   "cell_type": "code",
   "execution_count": 16,
   "id": "d4ff964c-9cd9-4582-bf7d-755b4da8a4c2",
   "metadata": {},
   "outputs": [
    {
     "name": "stdin",
     "output_type": "stream",
     "text": [
      "enter the username  Tanmayranjan\n",
      "enter the password 909\n"
     ]
    },
    {
     "name": "stdout",
     "output_type": "stream",
     "text": [
      "Authentication Fail\n"
     ]
    }
   ],
   "source": [
    "# 11.Task : Authentication System.\n",
    "# Write a javascript program that authenticates a user by checking their username and\n",
    "# password. The program should compare the entered credentials with predefined valid\n",
    "# credentials.\n",
    "# ● Predefined valid usernames and corresponding passwords\n",
    "# username1 = \"user1\"\n",
    "# username1_password1 = \"pass@123\"\n",
    "# Instructions:\n",
    "# 1. Input:\n",
    "# ○ Prompt the user to input their username and password.\n",
    "# 2. Processing:\n",
    "# ○ Check if the username and password match\n",
    "# 3. Output:\n",
    "# ○ If both the username and password match the predefined valid credentials\n",
    "# display \"Authentication successful.\"\n",
    "# ○ If either the username or the password does not match display\n",
    "# \"Authentication failed.\"\n",
    "\n",
    "user1=\"TanmayRanjan\"\n",
    "pas= \"pass@123\"\n",
    "user2=input(\"enter the username \")\n",
    "pass2=input(\"enter the password\")\n",
    "if(user1==user2) and (pas==pass2):\n",
    "    print(\"Authentication successful\")\n",
    "else:\n",
    "    print(\"Authentication Fail\")\n",
    "    "
   ]
  },
  {
   "cell_type": "code",
   "execution_count": 19,
   "id": "4934e576-a739-45c0-bc38-8d9a403d2641",
   "metadata": {},
   "outputs": [
    {
     "name": "stdin",
     "output_type": "stream",
     "text": [
      "enter the name of the employee Yashvir\n",
      "enter the experiance of the employee 30\n"
     ]
    },
    {
     "name": "stdout",
     "output_type": "stream",
     "text": [
      "Senior Employee\n",
      "Base salary =80000 +5000 bonus, Total Salary =85k\n"
     ]
    }
   ],
   "source": [
    "# 12.Employee Salary Based on Experience.\n",
    "# You are building a system for a Human Resources (HR) department that calculates an\n",
    "# employee's salary based on their years of experience. The system assigns salary tiers\n",
    "# based on the number of years an employee has been working. It also offers bonuses for\n",
    "# employees who have more than 15 years of experience.\n",
    "# Scenario Breakdown:\n",
    "# Context 1: Senior Employee\n",
    "# ● An employee with 10 or more years of experience is classified as a Senior\n",
    "# Employee. The base salary for such an employee is 80000.\n",
    "# ● If the employee has more than 15 years of experience they receive a bonus of\n",
    "# 5000 to their salary.\n",
    "# Example:\n",
    "# An employee with 18 years of experience:\n",
    "# ● They are classified as Senior Employees.\n",
    "# ● Their base salary is 80000.\n",
    "# ● Since they have more than 15 years of experience they receive an additional\n",
    "# 5000 bonus.\n",
    "# ● The final salary is 85000.\n",
    "# Context 2: Mid-Level Employee\n",
    "# ● Employees with 5 to 9 years of experience are classified as Mid-Level\n",
    "# Employees.\n",
    "# ● Their base salary is 50000 with no bonus.\n",
    "# Example:\n",
    "# An employee with 7 years of experience:\n",
    "# ● They are classified as a Mid-Level Employee.\n",
    "# ● Their base salary is 50000.\n",
    "# ● Since they have fewer than 10 years of experience no bonus is added.\n",
    "# ● The final salary is 50000.\n",
    "# Context 3: Junior Employee\n",
    "# ● Employees with less than 5 years of experience are classified as Junior\n",
    "# Employees.\n",
    "# ● Their base salary is 30000 with no bonus.\n",
    "# Example:\n",
    "# An employee with 3 years of experience:\n",
    "# ● They are classified as Junior Employees.\n",
    "# ● Their base salary is 30000.\n",
    "# ● No bonus is added.\n",
    "# ● The final salary is 30000.\n",
    "\n",
    "emp=input(\"enter the name of the employee\")\n",
    "exp=int(input(\"enter the experiance of the employee\"))\n",
    "if(exp>=15):\n",
    "  print(\"Senior Employee\")\n",
    "  print(\"Base salary =80000 +5000 bonus, Total Salary =85k\")\n",
    "elif (5<=exp) and (exp<=9):\n",
    "        print(\"mid level employee\")\n",
    "        print(\"salary= 50000 with no bonus\")\n",
    "        \n",
    "        \n",
    "elif (exp>=5):\n",
    "    print(\"junior employee\")\n",
    "    print(\"Salary= 30000 with no bonus\")\n",
    "\n",
    "elif (exp>=3):\n",
    "     print(\" junior employee\")\n",
    "     print (\"salary= 30000 with  no bonus\")\n",
    "\n",
    "\n",
    "    \n"
   ]
  },
  {
   "cell_type": "code",
   "execution_count": 20,
   "id": "8c1ff547-7d65-4805-b9eb-36beeb2521ab",
   "metadata": {},
   "outputs": [
    {
     "name": "stdin",
     "output_type": "stream",
     "text": [
      "Enter the number of days the book has been borrowed:  20\n"
     ]
    },
    {
     "name": "stdout",
     "output_type": "stream",
     "text": [
      "Total library charge: Rs. 100\n"
     ]
    }
   ],
   "source": [
    "# 13. Library Charge Calculation\n",
    "# Problem Statement:\n",
    "# Write a Python program that calculates the library charge based on the number of days a\n",
    "# book has been borrowed.\n",
    "# Charge Criteria:\n",
    "# ● Up to 5 days: Rs. 2 per day\n",
    "# ● 6 to 10 days: Rs. 3 per day\n",
    "# ● 11 to 15 days: Rs. 4 per day\n",
    "# ● More than 15 days: Rs. 5 per day\n",
    "# Instructions:\n",
    "# 1. Input: Prompt the user to enter the number of days the book has been borrowed.\n",
    "# 2. Processing: Calculate the charge based on the given criteria.\n",
    "# 3. Output: Display the calculated charge.\n",
    "\n",
    "days = int(input(\"Enter the number of days the book has been borrowed: \"))\n",
    "\n",
    "if days <= 0:\n",
    "    print(\"Invalid number of days.\")\n",
    "elif days <= 5:\n",
    "    charge = days * 2\n",
    "elif days <= 10:\n",
    "    charge = days * 3\n",
    "elif days <= 15:\n",
    "    charge = days * 4\n",
    "else:\n",
    "    charge = days * 5\n",
    "\n",
    "if days > 0:\n",
    "    print(f\"Total library charge: Rs. {charge}\")\n"
   ]
  },
  {
   "cell_type": "code",
   "execution_count": 25,
   "id": "4cfdacf9-658a-4627-ad50-82ff0f870e55",
   "metadata": {},
   "outputs": [
    {
     "name": "stdin",
     "output_type": "stream",
     "text": [
      "enter the first number  80\n",
      "enter the sceond number 10\n",
      "enter the third number 5\n"
     ]
    },
    {
     "name": "stdout",
     "output_type": "stream",
     "text": [
      "numbers in decending order: [80, 10, 5]\n"
     ]
    }
   ],
   "source": [
    "# 14. Arranging Three Numbers in Descending Order\n",
    "# Task:\n",
    "# Write a python program to arrange three numbers in descending order.\n",
    "# Input:\n",
    "# Prompt the user to enter three numbers.\n",
    "# Processing:\n",
    "# Sort the numbers in descending order.\n",
    "# Example:\n",
    "# ● Enter first number: 3\n",
    "# ● Enter second number: 1\n",
    "# ● Enter third number: 2\n",
    "# Output:\n",
    "# ● Numbers in Descending Order: 3, 2, 1\n",
    "num1=int(input(\"enter the first number \"))\n",
    "num2=int(input(\"enter the sceond number\"))\n",
    "num3=int(input(\"enter the third number\"))\n",
    "numbers= [num1,num2,num3]\n",
    "numbers.sort(reverse=True)\n",
    "print(\"numbers in decending order:\",numbers)\n"
   ]
  },
  {
   "cell_type": "code",
   "execution_count": 6,
   "id": "3b96c511-92d4-45b2-a4d8-313acc72fa21",
   "metadata": {},
   "outputs": [
    {
     "name": "stdin",
     "output_type": "stream",
     "text": [
      "enter the car name  mahindra\n",
      "enter the  price of the car 800000\n"
     ]
    },
    {
     "name": "stdout",
     "output_type": "stream",
     "text": [
      "40000.0\n"
     ]
    }
   ],
   "source": [
    "# 15. Tax Calculation for Car Purchase\n",
    "# Write a program to calculate the tax on a car purchase based on the car brand and its price.\n",
    "# 1. Mahindra: 5% tax for prices between 7L (7 lakh) and 10L.\n",
    "# 2. Audi: 10% tax for prices between 10L and 15L.\n",
    "# 3. Jaguar: 25% tax for prices between 15L and 20L.\n",
    "# 4. Mercedes: 30% tax for prices between 20L and 25L.\n",
    "# 5. Input: The car brand and price.\n",
    "# 6. Output: The calculated tax on the purchase.\n",
    "car=input(\"enter the car name \")\n",
    "price=int(input(\"enter the  price of the car\"))\n",
    "if(car== \"mahindra\") and (700000 <= price <=1000000):\n",
    " price = price*0.05\n",
    " print(price)\n",
    "elif(car==\"audi\") and(1000000<= price <=1500000):\n",
    "  price= price*0.10\n",
    "  print(price)\n",
    "elif(car== \"jaguar\") and (1500000<= price<= 2000000):\n",
    "  price = price* 0.25\n",
    "  print(price)\n",
    "elif(car== \"mercedes\") and( 2000000<= price <= 2500000):\n",
    "  price= price*0.30\n",
    "  print(price)\n",
    "\n",
    "else:\n",
    "    print(\"invalid ouput\")\n",
    "\n",
    "\n"
   ]
  },
  {
   "cell_type": "code",
   "execution_count": 7,
   "id": "f9bfb73d-bf12-4d23-9139-2a6162ed8367",
   "metadata": {},
   "outputs": [
    {
     "name": "stdin",
     "output_type": "stream",
     "text": [
      "enter the number 60\n",
      "enter the number 10\n",
      "enter the number 20\n"
     ]
    },
    {
     "name": "stdout",
     "output_type": "stream",
     "text": [
      "20 : is  in the middle \n"
     ]
    }
   ],
   "source": [
    "# 16.Finding the Middle Number\n",
    "# ○ Task: Write a program to determine the middle number among three inputs.\n",
    "# ○ Input: Prompt the user to enter three numbers.\n",
    "# ○ Processing: Identify the middle number, which is neither the largest nor the\n",
    "# smallest.\n",
    "# ○ Output: Display the middle number.\n",
    "num1= int(input(\"enter the number\"))\n",
    "num2= int(input(\"enter the number\"))\n",
    "num3 = int(input(\"enter the number\")) \n",
    "list= [num1, num2,num3]\n",
    "if (num1> num2 and num1 < num3)  or (num1 > num3 and num1 < num2):\n",
    " print(num1 ,\": is   in the  middle\")\n",
    "elif (num2> num1 and  num2< num3) or ( num2> num3 and num2< num1 ):\n",
    " print(num2,\": is in the middle \")\n",
    "\n",
    "else :\n",
    "  print(num3,\": is  in the middle \")\n",
    "    \n",
    "\n",
    " \n",
    "\n",
    " "
   ]
  },
  {
   "cell_type": "code",
   "execution_count": 11,
   "id": "057f9e83-7227-4175-b133-3f2660a75ab1",
   "metadata": {},
   "outputs": [
    {
     "name": "stdin",
     "output_type": "stream",
     "text": [
      "enter the number  30\n",
      "enter the number  10\n",
      "enter the number  9\n"
     ]
    },
    {
     "name": "stdout",
     "output_type": "stream",
     "text": [
      "30 :  is greatest from the given number\n"
     ]
    }
   ],
   "source": [
    "# 17.Find the greatest number.\n",
    "# ○ Task: Write a program to find greatest number from three number\n",
    "# ○ Input: Prompt the user to enter three numbers.\n",
    "# ○ Output: Display the greatest number.\n",
    "num1=int(input(\"enter the number \"))\n",
    "num2= int(input (\"enter the number \"))\n",
    "num3= int(input (\"enter the number \"))\n",
    "if (num1> num2 and num1 > num3)  or (num1 > num3 and num1 >num2):\n",
    "      print(num1,\":  is greatest from the given number\")\n",
    "elif (num2> num1 and  num2> num3) or ( num2> num3 and num2> num1 ):\n",
    "     print(num2,\":  is greatest from the given number\") \n",
    "\n",
    "else:\n",
    "   print(num3,\":  is greatest from the given number\")\n",
    " \n",
    "\n"
   ]
  },
  {
   "cell_type": "code",
   "execution_count": 16,
   "id": "e927c95d-74ed-44d7-915d-af1b614b40dd",
   "metadata": {},
   "outputs": [
    {
     "name": "stdin",
     "output_type": "stream",
     "text": [
      "enter  the username user1\n",
      "enter  the password  user@123\n"
     ]
    }
   ],
   "source": [
    "# 18.Authentication System\n",
    "# ○ Task: Write a program to authenticate a user by validating their username and\n",
    "# password.\n",
    "# ○ Predefined Credentials:\n",
    "# ■ Username: user1\n",
    "# ■ Password: pass@123\n",
    "# ○ Input: Prompt the user to input their username and password.\n",
    "# ○ Output:\n",
    "# ■ If the credentials match, display \"Authentication successful.\"\n",
    "# ■ If they do not match, display \"Authentication failed.\"\n",
    "user= \"user1\"\n",
    "pas= \"pass@123\"\n",
    "user2=input(\"enter  the username\")\n",
    "pas1= input(\"enter  the password \")\n",
    "if (user== user2) and (pas==pas1):\n",
    "    print(\"Authentication Successful\")\n",
    "elif(user != user2) and ( pas != pas1):\n",
    "      print(\"Authentication failed\")\n"
   ]
  },
  {
   "cell_type": "code",
   "execution_count": 6,
   "id": "cd899fd7-a4b1-4e30-aac0-ae71618f50c5",
   "metadata": {},
   "outputs": [
    {
     "name": "stdin",
     "output_type": "stream",
     "text": [
      "enter no. of the days the  student present  150\n"
     ]
    },
    {
     "name": "stdout",
     "output_type": "stream",
     "text": [
      "83.33333333333333\n",
      "eligible for the exam\n"
     ]
    }
   ],
   "source": [
    "# 19.Calculate Class Attendance Percentage\n",
    "# ○ Task: Write a program to calculate the percentage of classes attended by a\n",
    "# student and determine their eligibility to sit in the exam.\n",
    "# ○ Conditions:\n",
    "# ■ Attendance percentage < 75%: Not eligible to sit in the exam.\n",
    "# ■ Attendance percentage ≥ 75%: Eligible to sit in the exam.\n",
    "# ○ Output: Display the attendance percentage and eligibility status.\n",
    "att=int(input(\"enter no. of the days the  student present \"))\n",
    "per= att*100/180\n",
    "print(per)\n",
    "if(per<75):\n",
    " print(\"not elegible to sit in the exam\")\n",
    "elif(per>=75):\n",
    "    print(\"eligible for the exam\")\n",
    "    \n",
    " \n",
    "\n"
   ]
  },
  {
   "cell_type": "code",
   "execution_count": null,
   "id": "64b673b7-e6e2-4bfe-afd7-bae2018e7244",
   "metadata": {},
   "outputs": [],
   "source": [
    "# 20.Library Charge Calculation\n",
    "# ○ Task: Write a program to calculate the library charges based on the number of\n",
    "# days a book has been borrowed.\n",
    "# ○ Charge Criteria:\n",
    "# ■ Up to 5 days: ₹2/day.\n",
    "# ■ 6 to 10 days: ₹3/day.\n",
    "# ■ 11 to 15 days: ₹4/day.\n",
    "# ■ More than 15 days: ₹5/day.\n",
    "# ○ Output: Display the total charges.\n",
    "days = int(input(\"Enter the number of days the book has been borrowed: \"))\n",
    "if days <= 0:\n",
    "    print(\"Invalid number of days.\")\n",
    "elif days <= 5:\n",
    "    charge = days * 2\n",
    "elif days <= 10:\n",
    "    charge = days * 3\n",
    "elif days <= 15:\n",
    "    charge = days * 4\n",
    "else:\n",
    "    charge = days * 5\n",
    "\n",
    "if days > 0:\n",
    "    print(f\"Total library charge: Rs. {charge}\")\n",
    "\n",
    "         "
   ]
  },
  {
   "cell_type": "code",
   "execution_count": 12,
   "id": "162b7f50-78ca-4807-8b7e-f803f50e873c",
   "metadata": {},
   "outputs": [
    {
     "name": "stdin",
     "output_type": "stream",
     "text": [
      "Enter the nationality:  indian\n",
      "Enter the age of the person:  21\n",
      "Are you a graduate? (yes/no):  yes\n"
     ]
    },
    {
     "name": "stdout",
     "output_type": "stream",
     "text": [
      "You are eligible for the UPSC exam.\n"
     ]
    },
    {
     "name": "stdin",
     "output_type": "stream",
     "text": [
      "Enter the marks in Prelims:  100\n"
     ]
    },
    {
     "name": "stdout",
     "output_type": "stream",
     "text": [
      "You passed Prelims. Proceed to Mains.\n"
     ]
    },
    {
     "name": "stdin",
     "output_type": "stream",
     "text": [
      "Enter the marks in Mains:  400\n"
     ]
    },
    {
     "name": "stdout",
     "output_type": "stream",
     "text": [
      "You passed Mains. Proceed to Interview.\n"
     ]
    },
    {
     "name": "stdin",
     "output_type": "stream",
     "text": [
      "Enter the marks in Interview:  80\n"
     ]
    },
    {
     "name": "stdout",
     "output_type": "stream",
     "text": [
      " Congratulations! You have cleared the UPSC.\n"
     ]
    }
   ],
   "source": [
    "# 21.UPSC Selection Process\n",
    "# ○ Task: Simulate the UPSC selection process with the following steps:\n",
    "# 1. Eligibility Check\n",
    "# ■ Criteria:\n",
    "# ■ Age: 21–32 years.\n",
    "# ■ Graduate status: Must be a graduate.\n",
    "# ■ Nationality: Must be \"Indian\".\n",
    "# ■ Output:\n",
    "# ■ If eligible, proceed to Prelims.\n",
    "# ■ If ineligible, display the reason for ineligibility.\n",
    "# 2. Prelims Exam\n",
    "# ■ Processing: Check if the candidate’s score ≥ cut-off.\n",
    "# ■ Output:\n",
    "# ■ If passed, proceed to Mains.\n",
    "# ■ If failed, display \"You failed the Prelims.\"\n",
    "# 3. Mains Exam\n",
    "# ■ Processing: Check if the candidate’s score ≥ cut-off.\n",
    "# ■ Output:\n",
    "# ■ If passed, proceed to Interview.\n",
    "# ■ If failed, display \"You failed the Mains.\"\n",
    "# 4. Interview\n",
    "# ■ Processing: Check if the candidate’s score ≥ cut-off.\n",
    "# ■ Output:\n",
    "# ■ If passed, display \"Congratulations! You have cleared the\n",
    "# UPSC.\"\n",
    "# ■ If failed, display \"You failed the Interview.\"\n",
    "# ○ Final Output: Use nested conditional statements to simulate the entire process.\n",
    "# UPSC Selection Process\n",
    "\n",
    "# Step 1: Eligibility Check\n",
    "na = input(\"Enter the nationality: \")\n",
    "\n",
    "if na.lower() == \"indian\":\n",
    "    age = int(input(\"Enter the age of the person: \"))\n",
    "    graduate = input(\"Are you a graduate? (yes/no): \")\n",
    "\n",
    "    if 21 <= age <= 32 and graduate.lower() == \"yes\":\n",
    "        print(\"You are eligible for the UPSC exam.\")\n",
    "\n",
    "        # Step 2: Prelims\n",
    "        prelims_score = int(input(\"Enter the marks in Prelims: \"))\n",
    "        if prelims_score >= 100:\n",
    "            print(\"You passed Prelims. Proceed to Mains.\")\n",
    "\n",
    "            # Step 3: Mains\n",
    "            mains_score = int(input(\"Enter the marks in Mains: \"))\n",
    "            if mains_score >= 200:\n",
    "                print(\"You passed Mains. Proceed to Interview.\")\n",
    "\n",
    "                # Step 4: Interview\n",
    "                interview_score = int(input(\"Enter the marks in Interview: \"))\n",
    "                if interview_score >= 50:\n",
    "                    print(\" Congratulations! You have cleared the UPSC.\")\n",
    "                else:\n",
    "                    print(\"You failed the Interview.\")\n",
    "            else:\n",
    "                print(\" You failed the Mains.\")\n",
    "        else:\n",
    "            print(\" You failed the Prelims.\")\n",
    "    else:\n",
    "        print(\" You are not eligible due to age or graduation status.\")\n",
    "else:\n",
    "    print(\" You are not eligible. Candidate must be an Indian citizen.\")\n",
    "\n",
    "                   \n",
    "\n",
    "     \n",
    "     \n",
    "              \n",
    "     \n",
    "    \n",
    "    \n",
    "    \n",
    "    \n",
    "\n"
   ]
  },
  {
   "cell_type": "code",
   "execution_count": null,
   "id": "9a3a7432-9665-4a4d-816f-7165a844650e",
   "metadata": {},
   "outputs": [],
   "source": [
    "\n",
    "\n",
    "# 22. Menu-Driven Login System\n",
    "# 1. Create the Menu:\n",
    "# ○ Display a menu with three choices for the user:\n",
    "# ■ Login with Phone\n",
    "# ■ Login with Email\n",
    "# ■ Exit the system\n",
    "# 2. Predefined Credentials:\n",
    "# ○ Phone number: \"1234567890\"\n",
    "# ○ OTP: \"1234\"\n",
    "# ○ Email: \"user@example.com\"\n",
    "# ○ Password: \"password123”\n",
    "# 3. Login Functionality:\n",
    "# ○ Option 1 (Login with Phone):\n",
    "# ■ Prompt the user to enter their phone number and OTP.\n",
    "# ■ Compare the input with a predefined phone number and OTP.\n",
    "# ■ Display success if both match or an error message if they don’t.\n",
    "# ○ Option 2 (Login with Email):\n",
    "# ■ Prompt the user to enter their email and password.\n",
    "# ■ Compare the input with predefined email and password.\n",
    "# ■ Display success if both match or an error message if they don’t.\n",
    "# ○ Option 3 (Exit):\n",
    "# ■ Display an exit message and terminate the program.\n",
    "# ○ Invalid Input:\n",
    "# ■ Handle invalid user choices and ask the user to select a valid option.\n",
    "# Output:\n",
    "# 1. If the user enters a valid phone number and OTP, display: \"Login successful\n",
    "# with phone!\"\n",
    "# 2. If the user enters valid email and password, display: \"Login successful\n",
    "# with email!\"\n",
    "# 3. If the user selects the exit option, display: \"Exiting the program. Have a\n",
    "# nice day!\"\n",
    "# 4. If the user enters invalid credentials or an invalid choice, display appropriate error\n",
    "# messages.\n",
    "\n",
    "# Predefined Credentials\n",
    "PHONE = \"1234567890\"\n",
    "OTP = \"1234\"\n",
    "EMAIL = \"user@example.com\"\n",
    "PASSWORD = \"password123\"\n",
    "\n",
    "while True:\n",
    "    # Display Menu\n",
    "    print(\"\\n===== LOGIN MENU =====\")\n",
    "    print(\"1. Login with Phone\")\n",
    "    print(\"2. Login with Email\")\n",
    "    print(\"3. Exit the system\")\n",
    "\n",
    "    choice = input(\"Enter your choice (1-3): \")\n",
    "\n",
    "    if choice == \"1\":\n",
    "        # Login with Phone\n",
    "        phone_input = input(\"Enter your phone number: \")\n",
    "        otp_input = input(\"Enter OTP: \")\n",
    "\n",
    "        if phone_input == PHONE and otp_input == OTP:\n",
    "            print(\"Login successful with phone!\")\n",
    "        else:\n",
    "            print(\"Invalid phone number or OTP.\")\n",
    "\n",
    "    elif choice == \"2\":\n",
    "        # Login with Email\n",
    "        email_input = input(\"Enter your email: \")\n",
    "        password_input = input(\"Enter your password: \")\n",
    "\n",
    "        if email_input == EMAIL and password_input == PASSWORD:\n",
    "            print(\"Login successful with email!\")\n",
    "        else:\n",
    "            print(\"Invalid email or password.\")\n",
    "\n",
    "    elif choice == \"3\":\n",
    "        print(\"Exiting the program. Have a nice day!\")\n",
    "        break\n",
    "\n",
    "    else:\n",
    "        # Invalid menu input\n",
    "        print(\"Invalid choice! Please select 1, 2, or 3.\")\n"
   ]
  },
  {
   "cell_type": "code",
   "execution_count": null,
   "id": "aac0ce97-e0b1-4df1-9613-80f003c26490",
   "metadata": {},
   "outputs": [],
   "source": [
    "# 23.Create Your Own KBC Game\n",
    "# Design and implement a quiz game inspired by the popular Kaun Banega Crorepati (KBC)\n",
    "# game show. The aim of this assignment is to test the user's knowledge through a series of\n",
    "# multiple-choice questions, track their score, and display statistics at the end of the game. The\n",
    "# game also provides the flexibility to skip any question.\n",
    "# Instructions:\n",
    "# 1. Game Structure:\n",
    "# ○ The game will consist of 5 multiple-choice questions.\n",
    "# ○ The user will be asked a question with 4 options (A, B, C, D).\n",
    "# ○ The user can choose to skip any question they do not want to answer.\n",
    "# 2. Scoring System:\n",
    "# ○ Points will be awarded for correct answers as follows:\n",
    "# ■ Question 1 → 1000 points\n",
    "# ■ Question 2 → 2000 points\n",
    "# ■ Question 3 → 3000 points\n",
    "# ■ Question 4 → 5000 points\n",
    "# ■ Question 5 → 10000 points\n",
    "# ○ For incorrect answers, no points will be awarded.\n",
    "# ○ For skipped questions, no points will be awarded, but the game will continue.\n",
    "# 3. End of Game Statistics:\n",
    "# ○ At the end of the game, the following statistics will be displayed:\n",
    "# ■ Total score accumulated from correct answers.\n",
    "# ■ Number of correct answers provided by the user.\n",
    "# ■ Number of skipped questions.\n",
    "# ■ Number of wrong answers\n",
    "# 4. User Experience:\n",
    "# ○ At the beginning of the game, ask the user whether they would like to start or\n",
    "# not the game.\n",
    "# ○ Provide the option for the user to skip any question at any point..\n",
    "# 5. Game Ending:\n",
    "# ○ The game will end when all the questions have been answered or skipped. The\n",
    "# user should receive their total score and a summary of their performance.\n",
    "\n",
    "\n",
    "# KBC Game - Kaun Banega Crorepati (Text Version)\n",
    "\n",
    "# Questions, options, answers, and points\n",
    "questions = [\n",
    "    {\n",
    "        \"question\": \"Which is the capital of India?\",\n",
    "        \"options\": [\"A. Mumbai\", \"B. Delhi\", \"C. Kolkata\", \"D. Chennai\"],\n",
    "        \"answer\": \"B\",\n",
    "        \"points\": 1000\n",
    "    },\n",
    "    {\n",
    "        \"question\": \"Who is known as the Father of the Nation in India?\",\n",
    "        \"options\": [\"A. Subhas Chandra Bose\", \"B. Mahatma Gandhi\", \"C. Jawaharlal Nehru\", \"D. Sardar Patel\"],\n",
    "        \"answer\": \"B\",\n",
    "        \"points\": 2000\n",
    "    },\n",
    "    {\n",
    "        \"question\": \"Which planet is known as the Red Planet?\",\n",
    "        \"options\": [\"A. Earth\", \"B. Mars\", \"C. Jupiter\", \"D. Saturn\"],\n",
    "        \"answer\": \"B\",\n",
    "        \"points\": 3000\n",
    "    },\n",
    "    {\n",
    "        \"question\": \"How many states are there in India?\",\n",
    "        \"options\": [\"A. 28\", \"B. 29\", \"C. 27\", \"D. 26\"],\n",
    "        \"answer\": \"A\",\n",
    "        \"points\": 5000\n",
    "    },\n",
    "    {\n",
    "        \"question\": \"What is the national animal of India?\",\n",
    "        \"options\": [\"A. Elephant\", \"B. Lion\", \"C. Tiger\", \"D. Peacock\"],\n",
    "        \"answer\": \"C\",\n",
    "        \"points\": 10000\n",
    "    }\n",
    "]\n",
    "\n",
    "# Game stats\n",
    "total_score = 0\n",
    "correct_count = 0\n",
    "wrong_count = 0\n",
    "skipped_count = 0\n",
    "\n",
    "# Start game prompt\n",
    "start_game = input(\"Do you want to start the KBC game? (yes/no): \").lower()\n",
    "\n",
    "if start_game == \"yes\":\n",
    "    print(\"\\nWelcome to Kaun Banega Crorepati!\\n\")\n",
    "\n",
    "    # Loop through questions\n",
    "    for idx, q in enumerate(questions, start=1): #In Python, enumerate() is a built-in function that makes it easier to loop over something,\n",
    "                                                 #and keep track of the loop index at the same time — without manually creating a counter variable.\n",
    "        print(f\"\\nQuestion {idx}: {q['question']}\")\n",
    "        for option in q['options']:\n",
    "            print(option)\n",
    "        \n",
    "        print(\"Enter your answer (A/B/C/D) or 'skip' to skip the question.\")\n",
    "        user_answer = input(\"Your choice: \").upper()\n",
    "\n",
    "        if user_answer == \"SKIP\":\n",
    "            print(\"You chose to skip this question.\")\n",
    "            skipped_count += 1\n",
    "            continue\n",
    "        \n",
    "        if user_answer == q['answer']:\n",
    "            print(\"Correct Answer!\")\n",
    "            total_score += q['points']\n",
    "            correct_count += 1\n",
    "        else:\n",
    "            print(\"Wrong Answer!\")\n",
    "            wrong_count += 1\n",
    "\n",
    "    # Game over - show statistics\n",
    "    print(\"\\n----- GAME OVER -----\")\n",
    "    print(f\"Total Score: {total_score}\")\n",
    "    print(f\"Correct Answers: {correct_count}\")\n",
    "    print(f\"Wrong Answers: {wrong_count}\")\n",
    "    print(f\"Skipped Questions: {skipped_count}\")\n",
    "\n",
    "else:\n",
    "    print(\"You chose not to start the game. Goodbye!\")\n"
   ]
  }
 ],
 "metadata": {
  "kernelspec": {
   "display_name": "Python 3 (ipykernel)",
   "language": "python",
   "name": "python3"
  },
  "language_info": {
   "codemirror_mode": {
    "name": "ipython",
    "version": 3
   },
   "file_extension": ".py",
   "mimetype": "text/x-python",
   "name": "python",
   "nbconvert_exporter": "python",
   "pygments_lexer": "ipython3",
   "version": "3.13.5"
  }
 },
 "nbformat": 4,
 "nbformat_minor": 5
}
