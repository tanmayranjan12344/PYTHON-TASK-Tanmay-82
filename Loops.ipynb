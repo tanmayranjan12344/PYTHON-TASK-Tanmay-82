{
 "cells": [
  {
   "cell_type": "code",
   "execution_count": null,
   "id": "c74bca8c-550d-4534-9ffc-4da2cbb7af39",
   "metadata": {},
   "outputs": [],
   "source": [
    "# #what is the loop?\n",
    "#  loop is used to reach and follow step by step any  process\n",
    "# #types of the vloop\n",
    "# 1. for loop range based  loop\n",
    "# 2 while loop:condition based loop"
   ]
  },
  {
   "cell_type": "code",
   "execution_count": 16,
   "id": "ac807e69-ffe5-4999-91c4-5ee79516c841",
   "metadata": {},
   "outputs": [
    {
     "name": "stdout",
     "output_type": "stream",
     "text": [
      "1\n",
      "2\n",
      "3\n",
      "4\n",
      "10\n",
      "12\n",
      "14\n",
      "16\n",
      "18\n",
      "20\n",
      "22\n",
      "24\n"
     ]
    }
   ],
   "source": [
    " #range ()(start:0,stop-1,step:1)\n",
    "#it only take  the inteeger value\n",
    "\n",
    "for e in range(1,5,1):\n",
    "   print(e)\n",
    "\n",
    "for e in  range(10,25,2):\n",
    "     print(e)\n",
    "     "
   ]
  },
  {
   "cell_type": "code",
   "execution_count": 34,
   "id": "1f7fbd04-f12f-4550-bdea-b548bd3ad17d",
   "metadata": {},
   "outputs": [
    {
     "name": "stdin",
     "output_type": "stream",
     "text": [
      "enter the start point 5\n",
      "enter the end  point 1\n"
     ]
    },
    {
     "name": "stdout",
     "output_type": "stream",
     "text": [
      "15\n"
     ]
    }
   ],
   "source": [
    "#user take the point and end point> generate > sum \n",
    "a=int( input (\"enter the start point\"))\n",
    "b= int( input(\"enter the end  point\"))\n",
    "s=0\n",
    "if a<b:\n",
    " for i in range (a,b+1):\n",
    "         s=s+i\n",
    " print(s)\n",
    "else:\n",
    "    for i in range (b,a+1):\n",
    "         s=s+i\n",
    "    print(s)\n"
   ]
  },
  {
   "cell_type": "code",
   "execution_count": null,
   "id": "0b0b1143-146a-4b02-b0a1-1b8649f28f27",
   "metadata": {},
   "outputs": [],
   "source": [
    "# #2 x1=2\n",
    "# 2x 2= 4\n",
    "# 2x10=2\n",
    "n=int(input(\"enter the no. you have to divisible\"))\n",
    "for i in range (1,11):\n",
    "    result= num*i;\n",
    "    print(f\"{num}x {i}={result}\")\n",
    "      \n"
   ]
  },
  {
   "cell_type": "code",
   "execution_count": 39,
   "id": "17e4f957-630d-448b-8277-479da8c3f3d6",
   "metadata": {},
   "outputs": [
    {
     "name": "stdin",
     "output_type": "stream",
     "text": [
      "enter the name Tanmay\n"
     ]
    },
    {
     "ename": "ValueError",
     "evalue": "invalid literal for int() with base 10: 'Tanmay'",
     "output_type": "error",
     "traceback": [
      "\u001b[31m---------------------------------------------------------------------------\u001b[39m",
      "\u001b[31mValueError\u001b[39m                                Traceback (most recent call last)",
      "\u001b[36mCell\u001b[39m\u001b[36m \u001b[39m\u001b[32mIn[39]\u001b[39m\u001b[32m, line 1\u001b[39m\n\u001b[32m----> \u001b[39m\u001b[32m1\u001b[39m n= \u001b[38;5;28;43mint\u001b[39;49m\u001b[43m(\u001b[49m\u001b[38;5;28;43minput\u001b[39;49m\u001b[43m(\u001b[49m\u001b[33;43m\"\u001b[39;49m\u001b[33;43menter the name\u001b[39;49m\u001b[33;43m\"\u001b[39;49m\u001b[43m)\u001b[49m\u001b[43m)\u001b[49m\n\u001b[32m      2\u001b[39m \u001b[38;5;28;01mfor\u001b[39;00m i \u001b[38;5;129;01min\u001b[39;00m  \u001b[38;5;28mrange\u001b[39m(\u001b[38;5;28mlen\u001b[39m(n)):\n\u001b[32m      3\u001b[39m  \u001b[38;5;28mprint\u001b[39m(n[i])\n",
      "\u001b[31mValueError\u001b[39m: invalid literal for int() with base 10: 'Tanmay'"
     ]
    }
   ],
   "source": [
    "n= int(input(\"enter the name\"))\n",
    "for i in  range(len(n):\n",
    " print(n[i])\n"
   ]
  },
  {
   "cell_type": "code",
   "execution_count": null,
   "id": "d69f8d73-5e41-4ed9-9f91-6505c2448419",
   "metadata": {},
   "outputs": [],
   "source": []
  }
 ],
 "metadata": {
  "kernelspec": {
   "display_name": "Python 3 (ipykernel)",
   "language": "python",
   "name": "python3"
  },
  "language_info": {
   "codemirror_mode": {
    "name": "ipython",
    "version": 3
   },
   "file_extension": ".py",
   "mimetype": "text/x-python",
   "name": "python",
   "nbconvert_exporter": "python",
   "pygments_lexer": "ipython3",
   "version": "3.13.5"
  }
 },
 "nbformat": 4,
 "nbformat_minor": 5
}
