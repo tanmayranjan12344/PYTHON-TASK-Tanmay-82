{
 "cells": [
  {
   "cell_type": "code",
   "execution_count": null,
   "id": "0eb087c9-b6d3-46a6-bc8e-3598f900e174",
   "metadata": {},
   "outputs": [],
   "source": []
  }
 ],
 "metadata": {
  "kernelspec": {
   "display_name": "",
   "name": ""
  },
  "language_info": {
   "name": ""
  }
 },
 "nbformat": 4,
 "nbformat_minor": 5
}
