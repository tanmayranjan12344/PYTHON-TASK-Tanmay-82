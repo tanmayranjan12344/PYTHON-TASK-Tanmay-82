{
 "cells": [
  {
   "cell_type": "code",
   "execution_count": 2,
   "id": "17fc7650-21da-4377-8940-b62f1b75ef8b",
   "metadata": {},
   "outputs": [
    {
     "name": "stdout",
     "output_type": "stream",
     "text": [
      "ha hai\n"
     ]
    }
   ],
   "source": [
    "#conditional statements.\n",
    " #day4.#conditional statements\n",
    "#1 if elase \n",
    "#2. multiple if \n",
    "#3.if elif else\n",
    "#4.multiple if elif else\n",
    "#5.chaining of idf else(nesting,ladder)\n",
    "a=40\n",
    "b=85\n",
    "res=a<b\n",
    "if(res==True): #if (condition)\n",
    "   print(\"ha hai\")\n",
    "else (\"nahi hai\")"
   ]
  },
  {
   "cell_type": "code",
   "execution_count": 5,
   "id": "cba1b115-6e10-4260-8771-7ac0ea3768be",
   "metadata": {},
   "outputs": [
    {
     "name": "stdin",
     "output_type": "stream",
     "text": [
      "enter the number 30\n"
     ]
    },
    {
     "name": "stdout",
     "output_type": "stream",
     "text": [
      "  number is devided by both\n"
     ]
    }
   ],
   "source": [
    "#write the program to check  number is devided by both 3 and 6 take the number by the user \n",
    "c=int(input(\"enter the number\"))\n",
    "if(c%3==0 & c%6==0):\n",
    "      print(\"  number is devided by both\")\n",
    "else: \n",
    "      print(\" number is not devided \")\n",
    "      "
   ]
  },
  {
   "cell_type": "code",
   "execution_count": 4,
   "id": "e4c5015b-cb46-47fd-a350-17ef097fc7fc",
   "metadata": {},
   "outputs": [
    {
     "name": "stdin",
     "output_type": "stream",
     "text": [
      "enter the  number 40\n",
      "enter the  number 50\n",
      "enter the number 70\n"
     ]
    },
    {
     "name": "stdout",
     "output_type": "stream",
     "text": [
      "50\n",
      "70\n",
      "70\n"
     ]
    }
   ],
   "source": [
    "# #multiple if #continue condition chceking rather true/false\n",
    "# a=input(\"enter the  number\")\n",
    "# b= input(\"enter the  number\")\n",
    "# c=  input(\"enter the number\")\n",
    "# if( a>b):\n",
    "#  print(a);\n",
    "# else : \n",
    "#   print(b)\n",
    "# if(b>c):\n",
    "#   print(c)\n",
    "# else :\n",
    "#    print(c)\n",
    "# if(c>a):\n",
    "#    print(c)\n",
    "# else : \n",
    "#      print (a)\n",
    "\n",
    "\n",
    "num1=43\n",
    "num2= 40\n",
    "num3=46\n",
    "if ( num1>num2 and  num1> num3)\n",
    "print (f\"{num}.{num2},{num3}: {num1} is greatest\")\n",
    "elif (num2>num1 and num2 >num3 ):\n",
    "print (f\"in { \n"
   ]
  },
  {
   "cell_type": "code",
   "execution_count": null,
   "id": "62bdd70e-b689-472a-8ba7-c55d5a179269",
   "metadata": {},
   "outputs": [],
   "source": [
    "#if the number is divided by only 3 and 6 both and show  them  right now \n",
    "# if the number is only devided by 6 \n",
    "# if the number is the divide by only 3 and not 6\n",
    "# if the number is not devided by 6 not 3 \n",
    "\n",
    "a= input(\"enter the number\")\n",
    "if (a%3==0 and a%6==0)\n",
    "  print (\" no. is divided by three\")\n",
    "if (\n",
    "elif \n",
    "     print(\"no is not devided by three\")\n",
    "\n",
    "\n",
    "\n",
    "\n",
    "     \n"
   ]
  },
  {
   "cell_type": "code",
   "execution_count": 2,
   "id": "6e6fc3ae-c101-483c-b967-eda650f4e6fa",
   "metadata": {},
   "outputs": [
    {
     "ename": "IndentationError",
     "evalue": "unindent does not match any outer indentation level (<string>, line 24)",
     "output_type": "error",
     "traceback": [
      "  \u001b[36mFile \u001b[39m\u001b[32m<string>:24\u001b[39m\n\u001b[31m    \u001b[39m\u001b[31md= input(\"enter the marks of the pre exam and allowed for  main exam \")\u001b[39m\n                                                                           ^\n\u001b[31mIndentationError\u001b[39m\u001b[31m:\u001b[39m unindent does not match any outer indentation level\n"
     ]
    }
   ],
   "source": [
    "# nested if else or chaining\n",
    " marks=90\n",
    "if marks:\n",
    "    print(F\"marks of the student is {marks}\")\n",
    "    if marks>88:\n",
    "      print(\"pass\")\n",
    "\n",
    "\n",
    "a= input(\"enter the name of the student\")\n",
    "  print(a)\n",
    "b= input(\"enter the nationality of the person\") \n",
    "  print(b)\n",
    "  if (b== india)\n",
    "   print(\"he is elgible\")\n",
    "  elif:\n",
    "   print(\"he is not eligible\")\n",
    "      c= int(input(\"enter the age of the person\"))\n",
    "print (c)\n",
    "     if c>=21:\n",
    "         print (\" you are allowed\")\n",
    "     elif:\n",
    "         print(\" he is not allowed\")\n",
    "\n",
    "        d= input(\"enter the marks of the pre exam and allowed for  main exam \")\n",
    "           print (d)\n",
    "          if(d>=300<500)\n",
    "           print(\"passed for the next round\")\n",
    "              elif\n",
    "        print(\"better luck next time\")\n",
    "if(a>=300)\n",
    "   print(\" your are selected  for the main exam\")\n",
    "else :\n",
    "   print(\n",
    "    \n",
    "\n",
    "\n",
    "\n",
    "\n",
    "user_pre= int (input(\"enter your pre marks:\"))\n",
    "       if user_pre>=400:\n",
    "                     print (f\"congrats your are passs in pre:{user_pre}/400\")\n",
    "                     user_mains=int(input(\"enter the main mars:\"))\n",
    "                     if user_mains>=500:\n",
    "                          print(f\"congrats you are  pass in mains:{user_mains}/500\")\n",
    "                          user _intr>=600:\n",
    "                              print (\"you are selected for ips/ias\")\n",
    "                              else :\n",
    "                                    print(\"your are failed  the interview')\n",
    "                            else: \n",
    "                                print(\"aap mains mein fail ho gaye..\")\n",
    "                         else :\n",
    "                             print(\"aap pre main fail ho agye....\")\n",
    "                              \n",
    "                                    \n",
    "                                                    \n",
    "                     \n"
   ]
  },
  {
   "cell_type": "code",
   "execution_count": 13,
   "id": "dee2c90a-761b-4c66-b1e1-a72e6380022e",
   "metadata": {},
   "outputs": [
    {
     "name": "stdin",
     "output_type": "stream",
     "text": [
      "Enter your pre marks:  400\n"
     ]
    },
    {
     "name": "stdout",
     "output_type": "stream",
     "text": [
      "Congrats, you are pass in pre: 400/400\n"
     ]
    },
    {
     "name": "stdin",
     "output_type": "stream",
     "text": [
      "Enter the mains marks:  700\n"
     ]
    },
    {
     "name": "stdout",
     "output_type": "stream",
     "text": [
      "Congrats, you are pass in mains: 700/500\n"
     ]
    },
    {
     "name": "stdin",
     "output_type": "stream",
     "text": [
      "Enter your interview marks:  900\n"
     ]
    },
    {
     "name": "stdout",
     "output_type": "stream",
     "text": [
      "You are selected for IPS/IAS\n"
     ]
    }
   ],
   "source": [
    "user_pre = int(input(\"Enter your pre marks: \"))\n",
    "if user_pre >= 400:\n",
    "    print(f\"Congrats, you are pass in pre: {user_pre}/400\")\n",
    "    user_mains = int(input(\"Enter the mains marks: \"))\n",
    "    if user_mains >= 500:\n",
    "        print(f\"Congrats, you are pass in mains: {user_mains}/500\")\n",
    "        user_intr = int(input(\"Enter your interview marks: \"))\n",
    "        if user_intr >= 600:\n",
    "            print(\"You are selected for IPS/IAS\")\n",
    "        else:\n",
    "            print(\"You failed the interview.\")\n",
    "    else:\n",
    "        print(\"You failed in mains.\")\n",
    "else:\n",
    "    print(\"Invalid marks or you failed in pre.\")\n",
    "\n",
    "                              "
   ]
  },
  {
   "cell_type": "code",
   "execution_count": 26,
   "id": "492c7b16-c8cb-4d24-89f3-8c826bdf3b97",
   "metadata": {},
   "outputs": [
    {
     "name": "stdin",
     "output_type": "stream",
     "text": [
      "enter the name Tanmay\n",
      "enter the marks 40\n",
      "enter the marks of tech round 99\n",
      "enter the marks of hr interview 99\n"
     ]
    },
    {
     "name": "stdout",
     "output_type": "stream",
     "text": [
      "you are rejected2 \n"
     ]
    }
   ],
   "source": [
    "# #A software  company evaluates job cadidated based  on three tests:\n",
    "# 1. aptitude marks\n",
    "# 2. technical round\n",
    "# 3. hr interview\n",
    "\n",
    "# #selection creiteria are as follos:\n",
    "# #if the  candidate score more than 70 in all thre test they are selected \n",
    "# #if the candidate score more than 70 in only two test, thye are on hold\n",
    "# # if only one or  none of the tests, they are rejected \n",
    "\n",
    "name=input(\"enter the name\")\n",
    "ap_marks=int(input(\"enter the marks\"))\n",
    "user_tech=int(input(\"enter the marks of tech round\"))\n",
    "hr_int=int(input(\"enter the marks of hr interview\"))\n",
    "a=ap_marks\n",
    "b= user_tech\n",
    "c=hr_int\n",
    "if a>70:\n",
    "    if b>70:\n",
    "          if c>70:\n",
    "              print(\"  you are passed  \")\n",
    "          else:\n",
    "              print(\"  you are on hold \")\n",
    "    else: \n",
    "       if (b>70):\n",
    "             if(c>70):\n",
    "                 print (\"you are on the hold\")\n",
    "             else: \n",
    "                print (\" you are rejected1\")\n",
    "else:\n",
    "  print(\"you are  on hold \")\n",
    "     if(c>70):\n",
    "                 print (\"you are on the hold\")\n",
    "             else: \n",
    "                print (\" you are rejected2\")\n",
    "\n",
    "else if \n",
    "    print(\" you are rejected4\")\n",
    "\n",
    "    \n",
    "\n",
    "             \n",
    "    \n",
    "            \n",
    "        \n",
    "    \n",
    "\n",
    "\n",
    "    \n",
    "                   \n",
    "                  \n",
    "    \n",
    "\n",
    "\n"
   ]
  },
  {
   "cell_type": "code",
   "execution_count": 32,
   "id": "60842c50-b595-4bde-ac44-e4b302c5a192",
   "metadata": {},
   "outputs": [
    {
     "name": "stdin",
     "output_type": "stream",
     "text": [
      "enter the units consumed  210\n"
     ]
    },
    {
     "name": "stdout",
     "output_type": "stream",
     "text": [
      "moderate-efficient usage\n"
     ]
    }
   ],
   "source": [
    "# Question 3: Electricity Bill Category\n",
    "# An electricity board categorizes usage based on units:\n",
    "# If usage is less than 100, print \"Low Usage\".\n",
    "\n",
    "\n",
    "# If usage is between 100 and 300, check:\n",
    "\n",
    "\n",
    "# If units are divisible by 10, print \"Moderate - Efficient Usage\".\n",
    "\n",
    "\n",
    "# Else print \"Moderate Usage\".\n",
    "\n",
    "\n",
    "# If usage is more than 300, print \"High Usage\".\n",
    "\n",
    "\n",
    "# Write a program only using nested if-else.\n",
    "# Note : WITHOUT USING LOGICAL OPERATORS\n",
    "\n",
    "a=int(input(\"enter the units consumed \"))\n",
    "if(a<100):\n",
    "  print(\"less usage \")\n",
    "if(a>100):\n",
    "  if(a<300):\n",
    "     if(a%10==0):\n",
    "       print(\"moderate-efficient usage\")\n",
    "     else:\n",
    "       print(\"moderate  usage \")\n",
    "if(a>300):\n",
    "   print(\"high usage\")\n",
    "\n",
    "\n",
    "      \n",
    "       "
   ]
  },
  {
   "cell_type": "code",
   "execution_count": 33,
   "id": "a4d76504-09ea-4de0-acbe-783108ee22ea",
   "metadata": {},
   "outputs": [
    {
     "name": "stdout",
     "output_type": "stream",
     "text": [
      "False\n"
     ]
    }
   ],
   "source": [
    "x=bool(0)\n",
    "print(x)\n"
   ]
  },
  {
   "cell_type": "code",
   "execution_count": 36,
   "id": "7ff30025-ef5b-4bc6-a3ad-fb067d6094d2",
   "metadata": {},
   "outputs": [
    {
     "name": "stdout",
     "output_type": "stream",
     "text": [
      "True\n"
     ]
    }
   ],
   "source": [
    "a=True\n",
    "b=False\n",
    "print(a and not b)\n"
   ]
  },
  {
   "cell_type": "code",
   "execution_count": null,
   "id": "79bb7e23-8c8d-4460-963d-438f14695fd5",
   "metadata": {},
   "outputs": [],
   "source": []
  }
 ],
 "metadata": {
  "kernelspec": {
   "display_name": "Python 3 (ipykernel)",
   "language": "python",
   "name": "python3"
  },
  "language_info": {
   "codemirror_mode": {
    "name": "ipython",
    "version": 3
   },
   "file_extension": ".py",
   "mimetype": "text/x-python",
   "name": "python",
   "nbconvert_exporter": "python",
   "pygments_lexer": "ipython3",
   "version": "3.13.5"
  }
 },
 "nbformat": 4,
 "nbformat_minor": 5
}
